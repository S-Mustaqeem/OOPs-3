{
 "cells": [
  {
   "cell_type": "markdown",
   "metadata": {},
   "source": [
    "Q1. What is Abstraction in OOPs? Explain with an example."
   ]
  },
  {
   "cell_type": "markdown",
   "metadata": {},
   "source": [
    "Ans: in Object-Oriented programming System Abstraction is common module for diffrent classes in simple words it is a common structure for groupof related classes Abstraction allows you to define the blueprint of an object without providing the specific implementation of its behavior. "
   ]
  },
  {
   "cell_type": "code",
   "execution_count": 13,
   "metadata": {},
   "outputs": [],
   "source": [
    "#foe example\n",
    "#this is abstract for to find the area and identify the type of basic geometry shapes\n",
    "import abc\n",
    "class shape():\n",
    "    \n",
    "    @abc.abstractmethod\n",
    "    def show_area(self):\n",
    "        pass\n",
    "    \n",
    "    @abc.abstractmethod\n",
    "    def show_name(self):\n",
    "        pass"
   ]
  },
  {
   "cell_type": "code",
   "execution_count": 40,
   "metadata": {},
   "outputs": [
    {
     "name": "stdout",
     "output_type": "stream",
     "text": [
      "area of a given shape is 24\n",
      "This is Rectangle\n",
      "area of given shape is 50.264\n",
      "This is a Circle\n"
     ]
    }
   ],
   "source": [
    "#first we try with rectangle\n",
    "class rectangle(shape):\n",
    "    def __init__(self,lenght,width):\n",
    "        self.lenght=lenght\n",
    "        self.width=width\n",
    "        \n",
    "        \n",
    "    def show_area(self):\n",
    "        return f\"area of a given shape is {self.lenght* self.width}\"\n",
    "    def show_name(self):\n",
    "        return \"This is Rectangle\"\n",
    "    \n",
    "#second with circle  \n",
    "class circle(shape):\n",
    "    def __init__(self,radius):\n",
    "        self.radius= radius\n",
    "        \n",
    "    def show_area(self):\n",
    "        return f\"area of given shape is {3.1415* self.radius*self.radius}\"\n",
    "    def show_name(self):\n",
    "        return \"This is a Circle\"\n",
    "    \n",
    "    \n",
    "    \n",
    "#now we confirm  \n",
    "#for rectangle\n",
    "First_shape=rectangle(3,8)  \n",
    "#heres lenght of rectangle is 3 and width of rectangle is 8\n",
    "#therefor expected output of area is 3*8 which equals to 24\n",
    "print(First_shape.show_area())\n",
    "print(First_shape.show_name())\n",
    "\n",
    "#for circle\n",
    "Second_shape=circle(4)\n",
    "#heres a radius of circle is 4 \n",
    "#there for area of circle is π*square of radius which is nearly equalto 50.27\n",
    "print(Second_shape.show_area())\n",
    "print(Second_shape.show_name())"
   ]
  },
  {
   "cell_type": "code",
   "execution_count": null,
   "metadata": {},
   "outputs": [],
   "source": []
  },
  {
   "cell_type": "markdown",
   "metadata": {},
   "source": [
    "Q2. Differentiate between Abstraction and Encapsulation. Explain with an example."
   ]
  },
  {
   "cell_type": "markdown",
   "metadata": {},
   "source": [
    "Ans: Abstraction is one of basic configuration of structure, in Abstraction we not hide the function from user.\n",
    "Encapsulation means if we want to hide all function or some function from user then offcourse we can it is called Encapsulation."
   ]
  },
  {
   "cell_type": "code",
   "execution_count": 41,
   "metadata": {},
   "outputs": [
    {
     "name": "stdout",
     "output_type": "stream",
     "text": [
      "area of a given shape is 24\n",
      "This is Rectangle\n",
      "area of given shape is 50.264\n",
      "This is a Circle\n"
     ]
    }
   ],
   "source": [
    "#example of Abstraction \n",
    "#i copy from q1 because its same\n",
    "import abc\n",
    "class shape():\n",
    "    \n",
    "    @abc.abstractmethod\n",
    "    def show_area(self):\n",
    "        pass\n",
    "    \n",
    "    @abc.abstractmethod\n",
    "    def show_name(self):\n",
    "        pass\n",
    "    \n",
    "    \n",
    "#first we try with rectangle\n",
    "class rectangle(shape):\n",
    "    def __init__(self,lenght,width):\n",
    "        self.lenght=lenght\n",
    "        self.width=width\n",
    "        \n",
    "        \n",
    "    def show_area(self):\n",
    "        return f\"area of a given shape is {self.lenght* self.width}\"\n",
    "    def show_name(self):\n",
    "        return \"This is Rectangle\"\n",
    "    \n",
    "#second with circle  \n",
    "class circle(shape):\n",
    "    def __init__(self,radius):\n",
    "        self.radius= radius\n",
    "        \n",
    "    def show_area(self):\n",
    "        return f\"area of given shape is {3.1415* self.radius*self.radius}\"\n",
    "    def show_name(self):\n",
    "        return \"This is a Circle\"\n",
    "    \n",
    "    \n",
    "    \n",
    "#now we confirm  \n",
    "#for rectangle\n",
    "First_shape=rectangle(3,8)  \n",
    "#heres lenght of rectangle is 3 and width of rectangle is 8\n",
    "#therefor expected output of area is 3*8 which equals to 24\n",
    "print(First_shape.show_area())\n",
    "print(First_shape.show_name())\n",
    "\n",
    "#for circle\n",
    "Second_shape=circle(4)\n",
    "#heres a radius of circle is 4 \n",
    "#there for area of circle is π*square of radius which is nearly equalto 50.27\n",
    "print(Second_shape.show_area())\n",
    "print(Second_shape.show_name())"
   ]
  },
  {
   "cell_type": "code",
   "execution_count": 71,
   "metadata": {},
   "outputs": [
    {
     "name": "stdout",
     "output_type": "stream",
     "text": [
      "Main Balance is 1000\n",
      "Money added SUCCESSFULLY\n",
      "Main Balance is 1100\n",
      "Payment SUCCESSFULL\n",
      "Main Balance is 1050\n"
     ]
    }
   ],
   "source": [
    "#exampleof Encapsulation\n",
    "class UPI():\n",
    "    def __init__(self, Bank_balance):\n",
    "        #we hide Bank_balance from user\n",
    "        self.__Bank_balance= Bank_balance\n",
    "        \n",
    "        \n",
    "    def Send_money(self, Amount):\n",
    "        if self.__Bank_balance>= Amount:\n",
    "            self.__Bank_balance= self.__Bank_balance-Amount\n",
    "            return \"Payment SUCCESSFULL\"\n",
    "        \n",
    "        else :\n",
    "            return \"insufficient Balance\"\n",
    "        \n",
    "    def Add_money(self, Amount):\n",
    "        if Amount>0:\n",
    "            self.__Bank_balance+= Amount\n",
    "            return \"Money added SUCCESSFULLY\"\n",
    "        else :\n",
    "            return \"Amount should be min 1 rupees\"\n",
    "#if user want to check Bank_balance we make one get_balance term\n",
    "    def get_balance(self):\n",
    "        return self.__Bank_balance\n",
    "    \n",
    "#now we check Encapsulation program\n",
    "Mustaqeem=UPI(1000)\n",
    "print(f\"Main Balance is {Mustaqeem.get_balance()}\")\n",
    "print(Mustaqeem.Add_money(100))\n",
    "print(f\"Main Balance is {Mustaqeem.get_balance()}\")\n",
    "print(Mustaqeem.Send_money(50))\n",
    "print(f\"Main Balance is {Mustaqeem.get_balance()}\")\n"
   ]
  },
  {
   "cell_type": "code",
   "execution_count": null,
   "metadata": {},
   "outputs": [],
   "source": []
  },
  {
   "cell_type": "markdown",
   "metadata": {},
   "source": [
    "Q3. What is abc module in python? Why is it used?\n",
    "\n"
   ]
  },
  {
   "cell_type": "markdown",
   "metadata": {},
   "source": [
    "ANS: To achieve abstraction in Python, we can use 'abstract base classes' (ABCs) provided by the abc module. An abstract base class defines one or more abstract methods that must be overridden by the concrete subclasses.\n",
    "\n",
    "Abstract Base Classes (ABCs) are used in OOP to define common interfaces, promote code reusability, ensure correctness, and enable polymorphism. They provide a blueprint for related classes, making code organization easier and facilitating maintenance.\n",
    "\n",
    "heres above code explanation\n",
    "\n",
    "Consider a scenario where we want to create a program to handle various geometric shapes like circles, rectangles, and triangles. These shapes have common properties (such as area and perimeter) and methods (such as calculating area) but might have different implementations.\n",
    "\n",
    "By using ABC (Abstract Base Class), we can define an abstract class called `Shape`, which serves as a blueprint for all the geometric shapes. The `Shape` class can have abstract methods like `calculate_area()` and `calculate_perimeter()`, which are to be implemented by each specific shape subclass.\n",
    "\n",
    "For example, the `Circle`, `Rectangle`, and `Triangle` classes will inherit from the abstract `Shape` class and provide their specific implementations of `calculate_area()` and `calculate_perimeter()` based on their unique properties.\n",
    "\n",
    "The benefit of using ABC in this scenario is that it ensures that all subclasses representing geometric shapes adhere to a common interface and implement the required methods, promoting consistency and modularity in our code.\n",
    "\n",
    "To summarize, the best example for ABC would be the use of an abstract class `Shape` to represent a geometric shape hierarchy, where specific shape subclasses like `Circle`, `Rectangle`, and `Triangle` inherit from it and provide their own implementations for common methods like `calculate_area()` and `calculate_perimeter()`. This approach allows us to work with different shapes uniformly, making our code more organized and maintainable."
   ]
  },
  {
   "cell_type": "code",
   "execution_count": null,
   "metadata": {},
   "outputs": [],
   "source": []
  },
  {
   "cell_type": "markdown",
   "metadata": {},
   "source": [
    "Q4. How can we achieve data abstraction?\n",
    "\n"
   ]
  },
  {
   "cell_type": "markdown",
   "metadata": {},
   "source": [
    "In object-oriented programming, data abstraction can be achieved through the use of classes, access modifiers, and getter/setter methods.\n",
    "\n"
   ]
  },
  {
   "cell_type": "code",
   "execution_count": 21,
   "metadata": {},
   "outputs": [
    {
     "name": "stdout",
     "output_type": "stream",
     "text": [
      "yahiya 17 12th\n",
      "Mustaqeem 21 MSc\n"
     ]
    }
   ],
   "source": [
    "class student_details():\n",
    "    def __init__(self, name, age, std):\n",
    "        self.name=name\n",
    "        self.age=age \n",
    "        self.std=std\n",
    "    def get_name(self):\n",
    "        return self.name\n",
    "    def set_name(self,new_name):\n",
    "        self.name=new_name\n",
    "        return self.name\n",
    "    def get_age(self):\n",
    "        return self.age\n",
    "    def set_age(self,new_age):\n",
    "        self.age=new_age\n",
    "        return self.age\n",
    "    def get_std(self):\n",
    "        return self.std\n",
    "    def set_std(self,new_std):\n",
    "        self.std=new_std\n",
    "details=student_details('yahiya' ,17 ,'12th')\n",
    "print(details.get_name(),details.get_age(),details.get_std())\n",
    "details.set_name('Mustaqeem')\n",
    "details.set_age(21)\n",
    "details.set_std('MSc')\n",
    "print(details.get_name(),details.get_age(),details.get_std())"
   ]
  },
  {
   "cell_type": "code",
   "execution_count": 3,
   "metadata": {},
   "outputs": [],
   "source": []
  },
  {
   "cell_type": "markdown",
   "metadata": {},
   "source": [
    "Q5. Can we create an instance of an abstract class? Explain your answer."
   ]
  },
  {
   "cell_type": "code",
   "execution_count": null,
   "metadata": {},
   "outputs": [],
   "source": []
  }
 ],
 "metadata": {
  "kernelspec": {
   "display_name": "Python 3 (ipykernel)",
   "language": "python",
   "name": "python3"
  },
  "language_info": {
   "codemirror_mode": {
    "name": "ipython",
    "version": 3
   },
   "file_extension": ".py",
   "mimetype": "text/x-python",
   "name": "python",
   "nbconvert_exporter": "python",
   "pygments_lexer": "ipython3",
   "version": "3.10.8"
  }
 },
 "nbformat": 4,
 "nbformat_minor": 4
}
